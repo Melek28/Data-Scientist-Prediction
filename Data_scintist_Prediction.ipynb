{
  "cells": [
    {
      "cell_type": "markdown",
      "metadata": {
        "id": "UU0edkmCR5hi"
      },
      "source": [
        "# Part I : Quel(le) data scientist êtes-vous ?\n",
        "## Contexte de l’analyse\n",
        "\n",
        "\n",
        "\n",
        "A partir d'un dataset de Kaggle, vous réaliserez :\n",
        "- un clustering non supervisé afin d'identifier 2 groupes de profils techniques distinctes\n",
        "- une prédiction des profils dont le métier n'est pas labellisé\n",
        "\n",
        "\n",
        "## Données\n",
        "data.csv contient 6 variables : \n",
        "    - 'Entreprise' correspond à une liste d'entreprises fictive\n",
        "    - 'Metier' correspond au métier parmi data scientist, lead data scientist, data engineer et data architecte\n",
        "    - 'Technologies' correspond aux compétences maîtrisées par le profil\n",
        "    - 'Diplome' correspond à son niveau scolaire (Bac, Master, PhD,...)\n",
        "    - 'Experience' correspond au nombre d'années d'expériences\n",
        "    - 'Ville' correspond au lieu de travail\n",
        "    \n",
        "\n",
        "\n",
        "## Répondez aux questions \n",
        "\n"
      ]
    },
    {
      "cell_type": "code",
      "execution_count": null,
      "metadata": {
        "id": "dnZN8ffsR5hr"
      },
      "outputs": [],
      "source": [
        "# Import des libraries classique (numpy, pandas, ...)\n",
        "import pandas as pd\n",
        "import numpy as np\n",
        "import re\n",
        "import sklearn as sk\n",
        "import seaborn as sb\n",
        "from matplotlib import pyplot as plt\n",
        "plt.style.use('ggplot')"
      ]
    },
    {
      "cell_type": "markdown",
      "metadata": {
        "id": "CDz2fJrGR5hv"
      },
      "source": [
        "### 1) Importer le tableau de données dans un dataframe "
      ]
    },
    {
      "cell_type": "code",
      "execution_count": null,
      "metadata": {
        "id": "whdY4wsBR5hx",
        "colab": {
          "base_uri": "https://localhost:8080/"
        },
        "outputId": "eaad83c9-0313-489a-a4b3-4768f774b8dc"
      },
      "outputs": [
        {
          "output_type": "stream",
          "name": "stdout",
          "text": [
            "Entreprise      object\n",
            "Metier          object\n",
            "Technologies    object\n",
            "Diplome         object\n",
            "Experience      object\n",
            "Ville           object\n",
            "dtype: object\n",
            "<class 'pandas.core.frame.DataFrame'>\n",
            "RangeIndex: 9582 entries, 0 to 9581\n",
            "Data columns (total 6 columns):\n",
            " #   Column        Non-Null Count  Dtype \n",
            "---  ------        --------------  ----- \n",
            " 0   Entreprise    9565 non-null   object\n",
            " 1   Metier        9563 non-null   object\n",
            " 2   Technologies  9582 non-null   object\n",
            " 3   Diplome       9582 non-null   object\n",
            " 4   Experience    9488 non-null   object\n",
            " 5   Ville         9582 non-null   object\n",
            "dtypes: object(6)\n",
            "memory usage: 449.3+ KB\n"
          ]
        }
      ],
      "source": [
        "# Import du dataframe \"data.csv\"\n",
        "df = pd.read_csv(\"data.csv\", sep=',')\n",
        "print(df.dtypes)\n",
        "df.head(10)\n",
        "df.info()"
      ]
    },
    {
      "cell_type": "markdown",
      "source": [
        "on a 6 features de type Object\n"
      ],
      "metadata": {
        "id": "NyiVxNtLOLx-"
      }
    },
    {
      "cell_type": "markdown",
      "metadata": {
        "id": "vzyLbxLGR5hy"
      },
      "source": [
        "### 2) Combien y a t-il d'observations dans ce dataset? Y a t-il des valeurs manquantes? "
      ]
    },
    {
      "cell_type": "code",
      "execution_count": null,
      "metadata": {
        "id": "H0i6RhpqR5h1",
        "colab": {
          "base_uri": "https://localhost:8080/"
        },
        "outputId": "9c731e5d-0202-4ec7-9f53-6cbbc57d546c"
      },
      "outputs": [
        {
          "output_type": "stream",
          "name": "stdout",
          "text": [
            "(9582, 6)\n"
          ]
        },
        {
          "output_type": "execute_result",
          "data": {
            "text/plain": [
              "Entreprise      17\n",
              "Metier          19\n",
              "Technologies     0\n",
              "Diplome          0\n",
              "Experience      94\n",
              "Ville            0\n",
              "dtype: int64"
            ]
          },
          "metadata": {},
          "execution_count": 3
        }
      ],
      "source": [
        "print(df.shape)\n",
        "# Il y a 9582 observations\n",
        "df.isnull().sum()\n",
        "### Oui. c'est indiqué devant chaque colonne le nombre de valeurs manquantes"
      ]
    },
    {
      "cell_type": "markdown",
      "metadata": {
        "id": "2iFWkJQBR5h3"
      },
      "source": [
        "### 3) Réaliser l'imputation des valeurs manquantes pour la variable \"Experience\" avec : \n",
        "- la valeur médiane pour les data scientists\n",
        "- la valeur moyenne pour les data engineers"
      ]
    },
    {
      "cell_type": "code",
      "execution_count": null,
      "metadata": {
        "id": "AR8lj2zKR5h6",
        "colab": {
          "base_uri": "https://localhost:8080/"
        },
        "outputId": "c45eb00a-bce1-47c5-c993-d6f6a7a97f57"
      },
      "outputs": [
        {
          "output_type": "stream",
          "name": "stdout",
          "text": [
            "Entreprise       object\n",
            "Metier           object\n",
            "Technologies     object\n",
            "Diplome          object\n",
            "Experience      float64\n",
            "Ville            object\n",
            "dtype: object\n"
          ]
        },
        {
          "output_type": "execute_result",
          "data": {
            "text/plain": [
              "Entreprise      17\n",
              "Metier          19\n",
              "Technologies     0\n",
              "Diplome          0\n",
              "Experience       0\n",
              "Ville            0\n",
              "dtype: int64"
            ]
          },
          "metadata": {},
          "execution_count": 4
        }
      ],
      "source": [
        "df['Experience'] = df[\"Experience\"].apply(lambda x: float(re.sub(',','.',x)) if isinstance(x,str) else x) ## On utilise une lambda Function pour chnager le sep de décimaux et changer le type en float\n",
        "print(df.dtypes) ## Vérifier que le changement a été fait\n",
        "\n",
        "### Calcul Median & Mean\n",
        "\n",
        "median = df[df.Metier=='Data scientist']['Experience'].dropna().median()\n",
        "mean_data_engineer = df[df.Metier=='Data engineer']['Experience'].dropna().mean()\n",
        "## J'ai choisi de considérer la moyenne pour les deux autres métiers\n",
        "mean_data_architecte = df[df.Metier=='Data architecte']['Experience'].dropna().mean()\n",
        "mean_Lead_data_sc = df[df.Metier=='Lead data scientist']['Experience'].dropna().mean()\n",
        "### Fillna: remplir les valeurs vides\n",
        "df.loc[df.Metier=='Data scientist','Experience'] = df.loc[df.Metier=='Data scientist','Experience'].fillna(median)\n",
        "df.loc[df.Metier=='Data engineer','Experience'] = df.loc[df.Metier=='Data engineer','Experience'].fillna(mean_data_engineer)\n",
        "df.loc[df.Metier=='Data architecte','Experience'] = df.loc[df.Metier=='Data architecte','Experience'].fillna(mean_data_architecte)\n",
        "df.loc[df.Metier=='Lead data scientist','Experience'] = df.loc[df.Metier=='Lead data scientist','Experience'].fillna(mean_Lead_data_sc)\n",
        "\n",
        "df.isnull().sum()\n"
      ]
    },
    {
      "cell_type": "markdown",
      "source": [
        "**On a bien aucune valeur vide pour Expérience**\n",
        "\n",
        "\n"
      ],
      "metadata": {
        "id": "WwjMpQ90RHM3"
      }
    },
    {
      "cell_type": "markdown",
      "metadata": {
        "id": "JEdN1lScR5h8"
      },
      "source": [
        "### 4) Combien d'années d'expériences ont, en moyenne, chacun des profils : le data scientist, le lead data scientist et le data engineer en moyenne?"
      ]
    },
    {
      "cell_type": "code",
      "execution_count": null,
      "metadata": {
        "id": "heolvfSUR5h_",
        "colab": {
          "base_uri": "https://localhost:8080/"
        },
        "outputId": "7aa03548-2044-4a3d-aa5c-84c1b88489a1"
      },
      "outputs": [
        {
          "output_type": "execute_result",
          "data": {
            "text/plain": [
              "Metier\n",
              "Data architecte        3.000476\n",
              "Data engineer          2.984959\n",
              "Data scientist         2.241268\n",
              "Lead data scientist    3.965261\n",
              "Name: Experience, dtype: float64"
            ]
          },
          "metadata": {},
          "execution_count": 5
        }
      ],
      "source": [
        "L = df.groupby('Metier')[\"Experience\"].mean()\n",
        "L\n"
      ]
    },
    {
      "cell_type": "markdown",
      "metadata": {
        "id": "EdBL8h_lR5iA"
      },
      "source": [
        "### 5) Faire la représentation graphique de votre choix afin de comparer le nombre moyen d'années d'expériences pour chaque métier"
      ]
    },
    {
      "cell_type": "code",
      "execution_count": null,
      "metadata": {
        "id": "AIjKMEI0R5iB",
        "colab": {
          "base_uri": "https://localhost:8080/",
          "height": 408
        },
        "outputId": "5e679a5d-d7ee-4682-92ff-0ef8f54110ea"
      },
      "outputs": [
        {
          "output_type": "display_data",
          "data": {
            "text/plain": [
              "<Figure size 576x432 with 1 Axes>"
            ],
            "image/png": "[encoded data removed]"
          },
          "metadata": {
            "needs_background": "light"
          }
        }
      ],
      "source": [
        "plt.figure(figsize=(8,6))\n",
        "y = L.to_numpy()\n",
        "x = L.index.to_numpy()\n",
        "plt.bar(x,y, color = 'r')\n",
        "plt.xlabel(\"Métier\")\n",
        "plt.ylabel('Moy Annee Experience')\n",
        "plt.title('Moyenne Experience par metier')\n",
        "plt.show()"
      ]
    },
    {
      "cell_type": "markdown",
      "metadata": {
        "id": "BAJwX9ScR5iB"
      },
      "source": [
        "### 6) Transformer la variable continue 'Experience' en une nouvelle variable catégorielle 'Exp_label' à 4 modalités: débutant, confirmé, avancé et expert\n",
        "- Veuillez expliquer votre choix du règle de transformation.  "
      ]
    },
    {
      "cell_type": "code",
      "source": [
        "sb.histplot(df[\"Experience\"], kde=True)\n"
      ],
      "metadata": {
        "colab": {
          "base_uri": "https://localhost:8080/",
          "height": 300
        },
        "id": "vmsiqzn13_zg",
        "outputId": "91971b4d-cea9-4093-c4f9-cbe4109be86a"
      },
      "execution_count": null,
      "outputs": [
        {
          "output_type": "execute_result",
          "data": {
            "text/plain": [
              "<matplotlib.axes._subplots.AxesSubplot at 0x7f128a517d50>"
            ]
          },
          "metadata": {},
          "execution_count": 7
        },
        {
          "output_type": "display_data",
          "data": {
            "text/plain": [
              "<Figure size 432x288 with 1 Axes>"
            ],
            "image/png": "[encoded data removed]"
          },
          "metadata": {
            "needs_background": "light"
          }
        }
      ]
    },
    {
      "cell_type": "code",
      "execution_count": null,
      "metadata": {
        "id": "vQN07RtiR5iC",
        "colab": {
          "base_uri": "https://localhost:8080/",
          "height": 318
        },
        "outputId": "15fff602-2880-457c-ea55-945aa610162e"
      },
      "outputs": [
        {
          "output_type": "execute_result",
          "data": {
            "text/plain": [
              "Text(0.5, 1.0, 'Frequence de libellé de Exp')"
            ]
          },
          "metadata": {},
          "execution_count": 8
        },
        {
          "output_type": "display_data",
          "data": {
            "text/plain": [
              "<Figure size 432x288 with 1 Axes>"
            ],
            "image/png": "[encoded data removed]"
          },
          "metadata": {
            "needs_background": "light"
          }
        }
      ],
      "source": [
        "df['Exp_label'] = pd.cut(df['Experience'],bins=4, labels=['débutant', 'confirmé', 'avancé', 'expert'])\n",
        "y = df['Exp_label'].value_counts().values\n",
        "x = df['Exp_label'].value_counts().index\n",
        "plt.bar(x,y, color = 'orange')\n",
        "plt.xlabel(\"Exp_label\")\n",
        "plt.ylabel('Nombre')\n",
        "plt.title('Frequence de libellé de Exp')\n"
      ]
    },
    {
      "cell_type": "markdown",
      "metadata": {
        "id": "AQbnjxvHR5iC"
      },
      "source": [
        "### 7) Quelles sont les 5 technologies les plus utilisées? Faites un graphique"
      ]
    },
    {
      "cell_type": "code",
      "execution_count": null,
      "metadata": {
        "id": "YiDJUoHVR5iF",
        "colab": {
          "base_uri": "https://localhost:8080/",
          "height": 906
        },
        "outputId": "52e86e42-74ea-451c-ae18-2cff0bc27acb"
      },
      "outputs": [
        {
          "output_type": "execute_result",
          "data": {
            "text/plain": [
              "0     0             Matlab\n",
              "      1             Python\n",
              "      2            Pyspark\n",
              "      3       Scikit-learn\n",
              "      4         Tensorflow\n",
              "                ...       \n",
              "9580  3    Microsoft Azure\n",
              "9581  0                VBA\n",
              "      1             Python\n",
              "      2              Excel\n",
              "      3                  R\n",
              "Length: 43712, dtype: object"
            ]
          },
          "metadata": {},
          "execution_count": 9
        },
        {
          "output_type": "display_data",
          "data": {
            "text/plain": [
              "<Figure size 1440x720 with 1 Axes>"
            ],
            "image/png": "[encoded data removed]"
          },
          "metadata": {
            "needs_background": "light"
          }
        }
      ],
      "source": [
        "### voici les top 5 Technologies avec le nombre de fois d'apparition\n",
        "plt.figure(figsize=(20,10))\n",
        "All_Tech = pd.DataFrame(df['Technologies'].str.split('/').to_list()).stack()\n",
        "All_Tech.value_counts().plot(kind='bar')\n",
        "plt.title('Frequence des Technologies')\n",
        "All_Tech.value_counts()[0:5]\n",
        "### Voici les Top 5 des Techniques utilisées\n",
        "All_Tech"
      ]
    },
    {
      "cell_type": "markdown",
      "metadata": {
        "id": "2o9WjhB6R5iG"
      },
      "source": [
        "### 8) Réaliser une méthode de clustering non supervisée de votre choix pour faire apparaître 2 clusters que vous jugerez pertinents. \n",
        " les caractéristiques de chacun des clusters.\n",
        "-  Justifier la performance de votre algorithme grace à une métrique.\n",
        "-  Interpréter votre resultat.  "
      ]
    },
    {
      "cell_type": "markdown",
      "source": [
        "Comme Diplome est une donnée ordinale j'ai choisi de l'encoder de cette manière.\n",
        "J'aurais pu choisir également ordinal encoder"
      ],
      "metadata": {
        "id": "KKHCtDvhP7uJ"
      }
    },
    {
      "cell_type": "code",
      "source": [
        "df_exp = pd.DataFrame()\n",
        "df_exp['Experience'] = df.dropna()['Experience']\n",
        "X = df_exp['Experience'].to_numpy()\n",
        "X = np.reshape(X,(-1,1))"
      ],
      "metadata": {
        "id": "WBlDvdiuSn19"
      },
      "execution_count": null,
      "outputs": []
    },
    {
      "cell_type": "markdown",
      "source": [
        "On va utiliser K-means car il permet de fixer le nombre des clusters au préalable. On initialise à l'aide de k-means++ pour prendre les deuxième centroide le plus loin possible et non pas aléatoirement."
      ],
      "metadata": {
        "id": "kVYxj28ew2Ma"
      }
    },
    {
      "cell_type": "code",
      "source": [
        "#from sklearn.preprocessing import StandardScaler \n",
        "from sklearn.cluster import KMeans \n",
        "\n",
        "#X = StandardScaler().fit_transform(X) \n",
        "km = KMeans(n_clusters = 2, init=\"k-means++\", random_state=0).fit(X)\n",
        "labels = km.labels_\n",
        "c1, c2 = km.cluster_centers_\n",
        "df_exp['Cluster'] = pd.Series(labels,index=df_exp.index)\n",
        "Y = df_exp['Cluster'].to_numpy()"
      ],
      "metadata": {
        "id": "jYg3Z-t91OK0"
      },
      "execution_count": null,
      "outputs": []
    },
    {
      "cell_type": "code",
      "source": [
        "plt.scatter(X, Y, c =Y)\n",
        "plt.xlabel('Experience')\n",
        "plt.title('Clusters')\n",
        "plt.plot(c1,0,marker=\"o\", c = 'r')\n",
        "plt.plot(c2,1,marker=\"o\", c = 'r')\n",
        "### On visualise les centroides\n"
      ],
      "metadata": {
        "colab": {
          "base_uri": "https://localhost:8080/",
          "height": 317
        },
        "id": "q9XLc45NfIgO",
        "outputId": "1114cd19-9c60-4c8f-c652-6c79a30e6387"
      },
      "execution_count": null,
      "outputs": [
        {
          "output_type": "execute_result",
          "data": {
            "text/plain": [
              "[<matplotlib.lines.Line2D at 0x7f1272734190>]"
            ]
          },
          "metadata": {},
          "execution_count": 12
        },
        {
          "output_type": "display_data",
          "data": {
            "text/plain": [
              "<Figure size 432x288 with 1 Axes>"
            ],
            "image/png": "[encoded data removed]"
          },
          "metadata": {
            "needs_background": "light"
          }
        }
      ]
    },
    {
      "cell_type": "code",
      "source": [
        "### Metrics \n",
        "km.inertia_ #Inertia qui est la somme de la moyenne des distances de chaque points par rapport à son centroide.\n",
        "distortion = km.inertia_/len(df_exp)## Distortion c'est la moyenne d'Inertia"
      ],
      "metadata": {
        "id": "83w1sIkDvSjm"
      },
      "execution_count": null,
      "outputs": []
    },
    {
      "cell_type": "markdown",
      "source": [
        "Le Graphe montre deux clusters: le jaune représente les personnes les plus expérimentées et le violet représente les moins expérimentés(< 5 à peu près)\n"
      ],
      "metadata": {
        "id": "IfIhEPO9d9gT"
      }
    },
    {
      "cell_type": "markdown",
      "source": [
        "J'ai pensé à visualiser d'autres clusters comme celui qui me permet de de ségmenter la dataset par rapport au Technologies ce qui permet d'identifier deux clusters selon les métiers (Metier de Data Science ou pas)\n",
        "Mais j'ai eu comme contrainte les valeurs catégoriques même avec l'encoding j'ai pas réussi à avoir de bons résultats car c'est compliquer de faire l'encoding de Technologies en tant que données ordinale.\n",
        "\n",
        "J'ai également envisagé d'utiliser les similarités entre les lignes en utilisant les matrices de distances. Ici la contrainte est principalement que je dois utiliser un algorithme comme DBSCAN et du coup je ne peux pas fixer le nombre de cluster à 2."
      ],
      "metadata": {
        "id": "sXv7EQo2zeu5"
      }
    },
    {
      "cell_type": "markdown",
      "metadata": {
        "id": "fI5lUIQcR5iK"
      },
      "source": [
        "### 9) Réaliser la prédiction des métiers manquants dans la base de données par l'algorithme de votre choix\n",
        "\n",
        "-  Justifier la performance de votre algorithme grace à une métrique.\n",
        "-  Interpréter votre resultat.  "
      ]
    },
    {
      "cell_type": "code",
      "source": [
        "from sklearn.model_selection import train_test_split\n",
        "import xgboost as xgb\n",
        "from sklearn.metrics import accuracy_score, confusion_matrix,classification_report ## Métriques"
      ],
      "metadata": {
        "id": "BnZZ3gJJA5f8"
      },
      "execution_count": null,
      "outputs": []
    },
    {
      "cell_type": "code",
      "source": [
        "### On va utilser un encoder car les données sont catégoricales\n",
        "from sklearn.preprocessing import LabelEncoder\n",
        "label_encoder = LabelEncoder()\n",
        " \n",
        "### Fonction d'encoding: \n",
        "def encoding(df):\n",
        "  df_enc = pd.DataFrame()\n",
        "  a = label_encoder.fit_transform(df.iloc[:,0])\n",
        "  df_enc['Ent_enc'] = pd.Series(a)\n",
        "  a = label_encoder.fit_transform(df.iloc[:,1])\n",
        "  mapping = dict(zip(label_encoder.classes_, label_encoder.transform(label_encoder.classes_)))\n",
        "  df_enc['Metier_enc'] = pd.Series(a)\n",
        "  print(mapping)\n",
        "  a = label_encoder.fit_transform(df.iloc[:,2])\n",
        "  df_enc['Tech_enc'] = pd.Series(a)\n",
        "  a = label_encoder.fit_transform(df.iloc[:,5])\n",
        "  df_enc['Ville_enc'] = pd.Series(a)\n",
        "  df_enc['Experience'] = df['Experience']\n",
        "  return df_enc\n",
        "\n",
        "\n",
        "def encoding_diploma(x):\n",
        "  if x == \"No diploma\":\n",
        "    return 0\n",
        "  elif x == \"Bachelor\":\n",
        "    return 1 \n",
        "  elif x == \"Master\":\n",
        "    return 2\n",
        "  else:\n",
        "    return 3 "
      ],
      "metadata": {
        "id": "83a7MyRLgAjx"
      },
      "execution_count": null,
      "outputs": []
    },
    {
      "cell_type": "code",
      "source": [
        "df_enc = encoding(df.dropna())\n",
        "df_enc['Diplome_enc']= df.dropna()['Diplome'].apply(lambda x : encoding_diploma(x))\n",
        "df_enc"
      ],
      "metadata": {
        "colab": {
          "base_uri": "https://localhost:8080/",
          "height": 442
        },
        "id": "FjScYhNGKqID",
        "outputId": "96e0a5b8-7b95-4d99-f041-6babf210d971"
      },
      "execution_count": null,
      "outputs": [
        {
          "output_type": "stream",
          "name": "stdout",
          "text": [
            "{'Data architecte': 0, 'Data engineer': 1, 'Data scientist': 2, 'Lead data scientist': 3}\n"
          ]
        },
        {
          "output_type": "execute_result",
          "data": {
            "text/plain": [
              "      Ent_enc  Metier_enc  Tech_enc  Ville_enc  Experience  Diplome_enc\n",
              "0        1075           2        27          8         1.0          2.0\n",
              "1         797           0        34          4         3.0          2.0\n",
              "2         401           3        51          6         3.0          2.0\n",
              "3          99           2         2          4         1.5          2.0\n",
              "4         120           2        26          0         2.0          3.0\n",
              "...       ...         ...       ...        ...         ...          ...\n",
              "9541      797           2         1          3         0.0          3.0\n",
              "9542      284           2         9         13         2.0          0.0\n",
              "9543      157           2        48          8         0.0          2.0\n",
              "9544     1177           2        37          9         0.5          0.0\n",
              "9545     1300           2        56          8         2.0          2.0\n",
              "\n",
              "[9546 rows x 6 columns]"
            ],
            "text/html": [
              "\n",
              "  <div id=\"df-d8c7d240-abc2-48b0-a4fd-724ca411d100\">\n",
              "    <div class=\"colab-df-container\">\n",
              "      <div>\n",
              "<style scoped>\n",
              "    .dataframe tbody tr th:only-of-type {\n",
              "        vertical-align: middle;\n",
              "    }\n",
              "\n",
              "    .dataframe tbody tr th {\n",
              "        vertical-align: top;\n",
              "    }\n",
              "\n",
              "    .dataframe thead th {\n",
              "        text-align: right;\n",
              "    }\n",
              "</style>\n",
              "<table border=\"1\" class=\"dataframe\">\n",
              "  <thead>\n",
              "    <tr style=\"text-align: right;\">\n",
              "      <th></th>\n",
              "      <th>Ent_enc</th>\n",
              "      <th>Metier_enc</th>\n",
              "      <th>Tech_enc</th>\n",
              "      <th>Ville_enc</th>\n",
              "      <th>Experience</th>\n",
              "      <th>Diplome_enc</th>\n",
              "    </tr>\n",
              "  </thead>\n",
              "  <tbody>\n",
              "    <tr>\n",
              "      <th>0</th>\n",
              "      <td>1075</td>\n",
              "      <td>2</td>\n",
              "      <td>27</td>\n",
              "      <td>8</td>\n",
              "      <td>1.0</td>\n",
              "      <td>2.0</td>\n",
              "    </tr>\n",
              "    <tr>\n",
              "      <th>1</th>\n",
              "      <td>797</td>\n",
              "      <td>0</td>\n",
              "      <td>34</td>\n",
              "      <td>4</td>\n",
              "      <td>3.0</td>\n",
              "      <td>2.0</td>\n",
              "    </tr>\n",
              "    <tr>\n",
              "      <th>2</th>\n",
              "      <td>401</td>\n",
              "      <td>3</td>\n",
              "      <td>51</td>\n",
              "      <td>6</td>\n",
              "      <td>3.0</td>\n",
              "      <td>2.0</td>\n",
              "    </tr>\n",
              "    <tr>\n",
              "      <th>3</th>\n",
              "      <td>99</td>\n",
              "      <td>2</td>\n",
              "      <td>2</td>\n",
              "      <td>4</td>\n",
              "      <td>1.5</td>\n",
              "      <td>2.0</td>\n",
              "    </tr>\n",
              "    <tr>\n",
              "      <th>4</th>\n",
              "      <td>120</td>\n",
              "      <td>2</td>\n",
              "      <td>26</td>\n",
              "      <td>0</td>\n",
              "      <td>2.0</td>\n",
              "      <td>3.0</td>\n",
              "    </tr>\n",
              "    <tr>\n",
              "      <th>...</th>\n",
              "      <td>...</td>\n",
              "      <td>...</td>\n",
              "      <td>...</td>\n",
              "      <td>...</td>\n",
              "      <td>...</td>\n",
              "      <td>...</td>\n",
              "    </tr>\n",
              "    <tr>\n",
              "      <th>9541</th>\n",
              "      <td>797</td>\n",
              "      <td>2</td>\n",
              "      <td>1</td>\n",
              "      <td>3</td>\n",
              "      <td>0.0</td>\n",
              "      <td>3.0</td>\n",
              "    </tr>\n",
              "    <tr>\n",
              "      <th>9542</th>\n",
              "      <td>284</td>\n",
              "      <td>2</td>\n",
              "      <td>9</td>\n",
              "      <td>13</td>\n",
              "      <td>2.0</td>\n",
              "      <td>0.0</td>\n",
              "    </tr>\n",
              "    <tr>\n",
              "      <th>9543</th>\n",
              "      <td>157</td>\n",
              "      <td>2</td>\n",
              "      <td>48</td>\n",
              "      <td>8</td>\n",
              "      <td>0.0</td>\n",
              "      <td>2.0</td>\n",
              "    </tr>\n",
              "    <tr>\n",
              "      <th>9544</th>\n",
              "      <td>1177</td>\n",
              "      <td>2</td>\n",
              "      <td>37</td>\n",
              "      <td>9</td>\n",
              "      <td>0.5</td>\n",
              "      <td>0.0</td>\n",
              "    </tr>\n",
              "    <tr>\n",
              "      <th>9545</th>\n",
              "      <td>1300</td>\n",
              "      <td>2</td>\n",
              "      <td>56</td>\n",
              "      <td>8</td>\n",
              "      <td>2.0</td>\n",
              "      <td>2.0</td>\n",
              "    </tr>\n",
              "  </tbody>\n",
              "</table>\n",
              "<p>9546 rows × 6 columns</p>\n",
              "</div>\n",
              "      <button class=\"colab-df-convert\" onclick=\"convertToInteractive('df-d8c7d240-abc2-48b0-a4fd-724ca411d100')\"\n",
              "              title=\"Convert this dataframe to an interactive table.\"\n",
              "              style=\"display:none;\">\n",
              "        \n",
              "  <svg xmlns=\"http://www.w3.org/2000/svg\" height=\"24px\"viewBox=\"0 0 24 24\"\n",
              "       width=\"24px\">\n",
              "    <path d=\"M0 0h24v24H0V0z\" fill=\"none\"/>\n",
              "    <path d=\"M18.56 5.44l.94 2.06.94-2.06 2.06-.94-2.06-.94-.94-2.06-.94 2.06-2.06.94zm-11 1L8.5 8.5l.94-2.06 2.06-.94-2.06-.94L8.5 2.5l-.94 2.06-2.06.94zm10 10l.94 2.06.94-2.06 2.06-.94-2.06-.94-.94-2.06-.94 2.06-2.06.94z\"/><path d=\"M17.41 7.96l-1.37-1.37c-.4-.4-.92-.59-1.43-.59-.52 0-1.04.2-1.43.59L10.3 9.45l-7.72 7.72c-.78.78-.78 2.05 0 2.83L4 21.41c.39.39.9.59 1.41.59.51 0 1.02-.2 1.41-.59l7.78-7.78 2.81-2.81c.8-.78.8-2.07 0-2.86zM5.41 20L4 18.59l7.72-7.72 1.47 1.35L5.41 20z\"/>\n",
              "  </svg>\n",
              "      </button>\n",
              "      \n",
              "  <style>\n",
              "    .colab-df-container {\n",
              "      display:flex;\n",
              "      flex-wrap:wrap;\n",
              "      gap: 12px;\n",
              "    }\n",
              "\n",
              "    .colab-df-convert {\n",
              "      background-color: #E8F0FE;\n",
              "      border: none;\n",
              "      border-radius: 50%;\n",
              "      cursor: pointer;\n",
              "      display: none;\n",
              "      fill: #1967D2;\n",
              "      height: 32px;\n",
              "      padding: 0 0 0 0;\n",
              "      width: 32px;\n",
              "    }\n",
              "\n",
              "    .colab-df-convert:hover {\n",
              "      background-color: #E2EBFA;\n",
              "      box-shadow: 0px 1px 2px rgba(60, 64, 67, 0.3), 0px 1px 3px 1px rgba(60, 64, 67, 0.15);\n",
              "      fill: #174EA6;\n",
              "    }\n",
              "\n",
              "    [theme=dark] .colab-df-convert {\n",
              "      background-color: #3B4455;\n",
              "      fill: #D2E3FC;\n",
              "    }\n",
              "\n",
              "    [theme=dark] .colab-df-convert:hover {\n",
              "      background-color: #434B5C;\n",
              "      box-shadow: 0px 1px 3px 1px rgba(0, 0, 0, 0.15);\n",
              "      filter: drop-shadow(0px 1px 2px rgba(0, 0, 0, 0.3));\n",
              "      fill: #FFFFFF;\n",
              "    }\n",
              "  </style>\n",
              "\n",
              "      <script>\n",
              "        const buttonEl =\n",
              "          document.querySelector('#df-d8c7d240-abc2-48b0-a4fd-724ca411d100 button.colab-df-convert');\n",
              "        buttonEl.style.display =\n",
              "          google.colab.kernel.accessAllowed ? 'block' : 'none';\n",
              "\n",
              "        async function convertToInteractive(key) {\n",
              "          const element = document.querySelector('#df-d8c7d240-abc2-48b0-a4fd-724ca411d100');\n",
              "          const dataTable =\n",
              "            await google.colab.kernel.invokeFunction('convertToInteractive',\n",
              "                                                     [key], {});\n",
              "          if (!dataTable) return;\n",
              "\n",
              "          const docLinkHtml = 'Like what you see? Visit the ' +\n",
              "            '<a target=\"_blank\" href=https://colab.research.google.com/notebooks/data_table.ipynb>data table notebook</a>'\n",
              "            + ' to learn more about interactive tables.';\n",
              "          element.innerHTML = '';\n",
              "          dataTable['output_type'] = 'display_data';\n",
              "          await google.colab.output.renderOutput(dataTable, element);\n",
              "          const docLink = document.createElement('div');\n",
              "          docLink.innerHTML = docLinkHtml;\n",
              "          element.appendChild(docLink);\n",
              "        }\n",
              "      </script>\n",
              "    </div>\n",
              "  </div>\n",
              "  "
            ]
          },
          "metadata": {},
          "execution_count": 16
        }
      ]
    },
    {
      "cell_type": "code",
      "source": [
        "X = df_enc.drop(columns=[\"Metier_enc\",\"Ville_enc\"], axis=1)\n",
        "Y = df_enc[\"Metier_enc\"] ## Target feature\n",
        "### Entrainement du modèle\n",
        "X_train, X_test, Y_train, Y_test = train_test_split(X, Y, test_size=0.1, stratify=Y, random_state=0)\n",
        "model = xgb.XGBClassifier(objective=\"multi:softprob\", random_state=0)## XGBoost Classifier\n",
        "model.fit(X_train, Y_train)\n",
        "Y_pred = model.predict(X_test)\n",
        "### Métriques\n",
        "print('Précision du modèle :',accuracy_score(Y_test, Y_pred),'%','\\n')\n",
        "print('Recap de classification','\\n' ,classification_report(Y_test, Y_pred))\n",
        "print('Matrice de confusion','\\n',confusion_matrix(Y_test, Y_pred))"
      ],
      "metadata": {
        "colab": {
          "base_uri": "https://localhost:8080/"
        },
        "id": "C809Xg3wBLYc",
        "outputId": "296aaa24-29d1-4756-d208-039649c5a7b8"
      },
      "execution_count": null,
      "outputs": [
        {
          "output_type": "stream",
          "name": "stdout",
          "text": [
            "Précision du modèle : 0.8659685863874346 % \n",
            "\n",
            "Recap de classification \n",
            "               precision    recall  f1-score   support\n",
            "\n",
            "           0       1.00      0.92      0.96       212\n",
            "           1       0.96      1.00      0.98       234\n",
            "           2       0.78      0.97      0.86       386\n",
            "           3       0.68      0.19      0.29       123\n",
            "\n",
            "    accuracy                           0.87       955\n",
            "   macro avg       0.85      0.77      0.77       955\n",
            "weighted avg       0.86      0.87      0.84       955\n",
            "\n",
            "Matrice de confusion \n",
            " [[195   9   8   0]\n",
            " [  0 234   0   0]\n",
            " [  0   0 375  11]\n",
            " [  0   0 100  23]]\n"
          ]
        }
      ]
    },
    {
      "cell_type": "markdown",
      "source": [
        "On remarque que Leader data scientist est généralement prédit en tant que Data scientist ce qui fait que le recall de Leader Data scientist est faible."
      ],
      "metadata": {
        "id": "QLYjSALiPqHm"
      }
    },
    {
      "cell_type": "code",
      "source": [
        "###Prédire les métiers manquants\n",
        "Metier_à_pred = df[df.Metier.isnull()]\n",
        "exp = Metier_à_pred['Experience'].to_numpy()\n",
        "df_pred = encoding(Metier_à_pred)\n",
        "\n",
        "X_à_pred = df_pred.drop(columns= ['Metier_enc','Experience'])\n",
        "X_à_pred = np.hstack((X_à_pred, exp.reshape(19,1)))\n",
        "X_à_pred = pd.DataFrame(X_à_pred, columns=X_train.columns)\n",
        "\n",
        "Y_pred = model.predict(X_à_pred)\n",
        "indices = X_à_pred.index\n",
        "Y_pred"
      ],
      "metadata": {
        "colab": {
          "base_uri": "https://localhost:8080/"
        },
        "id": "TCQYc_F-crxx",
        "outputId": "f8321996-2406-4bf2-b102-74e136a16f85"
      },
      "execution_count": null,
      "outputs": [
        {
          "output_type": "stream",
          "name": "stdout",
          "text": [
            "{nan: 0}\n"
          ]
        },
        {
          "output_type": "execute_result",
          "data": {
            "text/plain": [
              "array([2, 1, 1, 2, 1, 1, 0, 0, 1, 0, 2, 0, 2, 0, 0, 2, 2, 0, 2])"
            ]
          },
          "metadata": {},
          "execution_count": 18
        }
      ]
    },
    {
      "cell_type": "code",
      "source": [
        "plt.figure(figsize=(20,10))\n",
        "mapping = ['Data architecte', 'Data engineer', 'Data scientist', 'Lead data scientist'] ## à partir du mapping fourni ci-dessus\n",
        "plt.scatter(indices,Y_pred, c=Y_pred)\n",
        "plt.yticks(ticks =[0,1,2,3] , labels = mapping)\n",
        "plt.show()"
      ],
      "metadata": {
        "colab": {
          "base_uri": "https://localhost:8080/",
          "height": 595
        },
        "id": "MJZDTaAJBgHo",
        "outputId": "d69fc0ba-96b7-4fe5-d0fc-2be78e5b4357"
      },
      "execution_count": null,
      "outputs": [
        {
          "output_type": "display_data",
          "data": {
            "text/plain": [
              "<Figure size 1440x720 with 1 Axes>"
            ],
            "image/png": "[encoded data removed]"
          },
          "metadata": {
            "needs_background": "light"
          }
        }
      ]
    },
    {
      "cell_type": "markdown",
      "source": [
        "Certaines données prédites en Data scientist sont censées être en Lead Data scientist."
      ],
      "metadata": {
        "id": "Cv648xEm2GwE"
      }
    }
  ],
  "metadata": {
    "kernelspec": {
      "display_name": "Python 3",
      "language": "python",
      "name": "python3"
    },
    "language_info": {
      "codemirror_mode": {
        "name": "ipython",
        "version": 3
      },
      "file_extension": ".py",
      "mimetype": "text/x-python",
      "name": "python",
      "nbconvert_exporter": "python",
      "pygments_lexer": "ipython3",
      "version": "3.7.2"
    },
    "colab": {
      "name": "Data scintist Prediction.ipynb",
      "provenance": [],
      "collapsed_sections": []
    }
  },
  "nbformat": 4,
  "nbformat_minor": 0
}